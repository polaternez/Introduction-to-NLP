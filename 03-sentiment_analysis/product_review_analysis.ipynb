{
 "cells": [
  {
   "cell_type": "markdown",
   "metadata": {
    "id": "freIscgt1__C"
   },
   "source": [
    "# Setup"
   ]
  },
  {
   "cell_type": "code",
   "execution_count": 1,
   "metadata": {
    "id": "CBC0XRTBXg9x"
   },
   "outputs": [],
   "source": [
    "import numpy as np\n",
    "import pandas as pd\n",
    "\n",
    "from sklearn.model_selection import cross_val_score\n",
    "from sklearn.metrics import classification_report, confusion_matrix\n"
   ]
  },
  {
   "cell_type": "markdown",
   "metadata": {},
   "source": [
    "# Load data"
   ]
  },
  {
   "cell_type": "code",
   "execution_count": 2,
   "metadata": {
    "colab": {
     "base_uri": "https://localhost:8080/",
     "height": 423
    },
    "id": "_erip2I7XkBs",
    "outputId": "5ffb2adb-48ec-405b-ff75-57ea63f1e367"
   },
   "outputs": [
    {
     "data": {
      "text/html": [
       "<div>\n",
       "<style scoped>\n",
       "    .dataframe tbody tr th:only-of-type {\n",
       "        vertical-align: middle;\n",
       "    }\n",
       "\n",
       "    .dataframe tbody tr th {\n",
       "        vertical-align: top;\n",
       "    }\n",
       "\n",
       "    .dataframe thead th {\n",
       "        text-align: right;\n",
       "    }\n",
       "</style>\n",
       "<table border=\"1\" class=\"dataframe\">\n",
       "  <thead>\n",
       "    <tr style=\"text-align: right;\">\n",
       "      <th></th>\n",
       "      <th>review</th>\n",
       "      <th>label</th>\n",
       "    </tr>\n",
       "  </thead>\n",
       "  <tbody>\n",
       "    <tr>\n",
       "      <th>0</th>\n",
       "      <td>beklentimin altında bir ürün kaliteli değil</td>\n",
       "      <td>neg</td>\n",
       "    </tr>\n",
       "    <tr>\n",
       "      <th>1</th>\n",
       "      <td>3. kademe hız da motor titreme yapıyor.bu sebe...</td>\n",
       "      <td>neg</td>\n",
       "    </tr>\n",
       "    <tr>\n",
       "      <th>2</th>\n",
       "      <td>başlığı sabit durmuyor. arka koruma demiri üfl...</td>\n",
       "      <td>neg</td>\n",
       "    </tr>\n",
       "    <tr>\n",
       "      <th>3</th>\n",
       "      <td>ürün gayet kalitesiz öğrenci evinde aldığımız ...</td>\n",
       "      <td>neg</td>\n",
       "    </tr>\n",
       "    <tr>\n",
       "      <th>4</th>\n",
       "      <td>yuksek hizda kullanirken titredim yaptigi icin...</td>\n",
       "      <td>neg</td>\n",
       "    </tr>\n",
       "    <tr>\n",
       "      <th>...</th>\n",
       "      <td>...</td>\n",
       "      <td>...</td>\n",
       "    </tr>\n",
       "    <tr>\n",
       "      <th>7979</th>\n",
       "      <td>ürün pahalı ama gerçekten farklı.</td>\n",
       "      <td>pos</td>\n",
       "    </tr>\n",
       "    <tr>\n",
       "      <th>7980</th>\n",
       "      <td>3 bıçaklı fiyatına 5 bıçak ve jel geldi. teşek...</td>\n",
       "      <td>pos</td>\n",
       "    </tr>\n",
       "    <tr>\n",
       "      <th>7981</th>\n",
       "      <td>piyasa fiyatının oldukça altında ve toplamda 9...</td>\n",
       "      <td>pos</td>\n",
       "    </tr>\n",
       "    <tr>\n",
       "      <th>7982</th>\n",
       "      <td>askerde hayat kurtarır abiler</td>\n",
       "      <td>pos</td>\n",
       "    </tr>\n",
       "    <tr>\n",
       "      <th>7983</th>\n",
       "      <td>ürünün kali̇tesi̇ belli̇  hizli ve sorunsuz al...</td>\n",
       "      <td>pos</td>\n",
       "    </tr>\n",
       "  </tbody>\n",
       "</table>\n",
       "<p>7984 rows × 2 columns</p>\n",
       "</div>"
      ],
      "text/plain": [
       "                                                 review label\n",
       "0           beklentimin altında bir ürün kaliteli değil   neg\n",
       "1     3. kademe hız da motor titreme yapıyor.bu sebe...   neg\n",
       "2     başlığı sabit durmuyor. arka koruma demiri üfl...   neg\n",
       "3     ürün gayet kalitesiz öğrenci evinde aldığımız ...   neg\n",
       "4     yuksek hizda kullanirken titredim yaptigi icin...   neg\n",
       "...                                                 ...   ...\n",
       "7979                  ürün pahalı ama gerçekten farklı.   pos\n",
       "7980  3 bıçaklı fiyatına 5 bıçak ve jel geldi. teşek...   pos\n",
       "7981  piyasa fiyatının oldukça altında ve toplamda 9...   pos\n",
       "7982                     askerde hayat kurtarır abiler    pos\n",
       "7983  ürünün kali̇tesi̇ belli̇  hizli ve sorunsuz al...   pos\n",
       "\n",
       "[7984 rows x 2 columns]"
      ]
     },
     "execution_count": 2,
     "metadata": {},
     "output_type": "execute_result"
    }
   ],
   "source": [
    "dataset = pd.read_csv(\"./product_reviews.csv\")\n",
    "dataset"
   ]
  },
  {
   "cell_type": "code",
   "execution_count": 3,
   "metadata": {
    "colab": {
     "base_uri": "https://localhost:8080/"
    },
    "id": "melRSFkF1dRj",
    "outputId": "2cf41b58-e2b1-40a5-9073-cf2a9c23828c"
   },
   "outputs": [
    {
     "name": "stdout",
     "output_type": "stream",
     "text": [
      "<class 'pandas.core.frame.DataFrame'>\n",
      "RangeIndex: 7984 entries, 0 to 7983\n",
      "Data columns (total 2 columns):\n",
      " #   Column  Non-Null Count  Dtype \n",
      "---  ------  --------------  ----- \n",
      " 0   review  7984 non-null   object\n",
      " 1   label   7984 non-null   object\n",
      "dtypes: object(2)\n",
      "memory usage: 124.9+ KB\n"
     ]
    }
   ],
   "source": [
    "dataset.info()"
   ]
  },
  {
   "cell_type": "code",
   "execution_count": 4,
   "metadata": {
    "colab": {
     "base_uri": "https://localhost:8080/"
    },
    "id": "M9TGuVVD1e0C",
    "outputId": "bcd6b161-1e95-4458-ffdb-58bda295e1fb"
   },
   "outputs": [
    {
     "data": {
      "text/plain": [
       "pos    3998\n",
       "neg    3986\n",
       "Name: label, dtype: int64"
      ]
     },
     "execution_count": 4,
     "metadata": {},
     "output_type": "execute_result"
    }
   ],
   "source": [
    "dataset[\"label\"].value_counts()"
   ]
  },
  {
   "cell_type": "markdown",
   "metadata": {
    "id": "mSL-a_y2Ledz"
   },
   "source": [
    "# Data cleaning"
   ]
  },
  {
   "cell_type": "code",
   "execution_count": 5,
   "metadata": {
    "colab": {
     "base_uri": "https://localhost:8080/"
    },
    "id": "9ajDIcjU1iLL",
    "outputId": "f43ed3c7-aba5-4f42-874b-57be6fe588a9"
   },
   "outputs": [
    {
     "name": "stderr",
     "output_type": "stream",
     "text": [
      "[nltk_data] Downloading package stopwords to\n",
      "[nltk_data]     C:\\Users\\Polat\\AppData\\Roaming\\nltk_data...\n",
      "[nltk_data]   Package stopwords is already up-to-date!\n"
     ]
    }
   ],
   "source": [
    "import re\n",
    "import nltk\n",
    "from nltk.stem.snowball import SnowballStemmer\n",
    "\n",
    "nltk.download(\"stopwords\")\n",
    "from nltk.corpus import stopwords"
   ]
  },
  {
   "cell_type": "code",
   "execution_count": 6,
   "metadata": {
    "colab": {
     "base_uri": "https://localhost:8080/"
    },
    "id": "cUSJwmVT1nyq",
    "outputId": "3574781f-12ea-47a3-cf58-6ba239463450"
   },
   "outputs": [
    {
     "name": "stderr",
     "output_type": "stream",
     "text": [
      "C:\\Users\\Polat\\AppData\\Local\\Temp\\ipykernel_1032\\2720343626.py:7: FutureWarning: Possible set union at position 4\n",
      "  review = re.sub(\"[\\W || \\d]\", \" \", review)\n"
     ]
    }
   ],
   "source": [
    "from snowballstemmer import TurkishStemmer\n",
    "\n",
    "ts = TurkishStemmer()\n",
    "clean_reviws = []\n",
    "\n",
    "for review in dataset[\"review\"]:\n",
    "  review = re.sub(\"[\\W || \\d]\", \" \", review)\n",
    "  review = review.lower()\n",
    "  review = review.split()\n",
    "  review = [word for word in review if word not in set(stopwords.words(\"turkish\"))]\n",
    "  review = \" \".join(review)\n",
    "  clean_reviws.append(review)\n",
    "\n",
    "dataset[\"clean_reviws\"] = clean_reviws"
   ]
  },
  {
   "cell_type": "code",
   "execution_count": 7,
   "metadata": {
    "colab": {
     "base_uri": "https://localhost:8080/",
     "height": 423
    },
    "id": "ksSqUlkq2Nb9",
    "outputId": "0a046524-c657-4963-86f6-78f063abe25a"
   },
   "outputs": [
    {
     "data": {
      "text/html": [
       "<div>\n",
       "<style scoped>\n",
       "    .dataframe tbody tr th:only-of-type {\n",
       "        vertical-align: middle;\n",
       "    }\n",
       "\n",
       "    .dataframe tbody tr th {\n",
       "        vertical-align: top;\n",
       "    }\n",
       "\n",
       "    .dataframe thead th {\n",
       "        text-align: right;\n",
       "    }\n",
       "</style>\n",
       "<table border=\"1\" class=\"dataframe\">\n",
       "  <thead>\n",
       "    <tr style=\"text-align: right;\">\n",
       "      <th></th>\n",
       "      <th>review</th>\n",
       "      <th>label</th>\n",
       "      <th>clean_reviws</th>\n",
       "    </tr>\n",
       "  </thead>\n",
       "  <tbody>\n",
       "    <tr>\n",
       "      <th>0</th>\n",
       "      <td>beklentimin altında bir ürün kaliteli değil</td>\n",
       "      <td>neg</td>\n",
       "      <td>beklentimin altında bir ürün kaliteli değil</td>\n",
       "    </tr>\n",
       "    <tr>\n",
       "      <th>1</th>\n",
       "      <td>3. kademe hız da motor titreme yapıyor.bu sebe...</td>\n",
       "      <td>neg</td>\n",
       "      <td>kademe hız motor titreme yapıyor sebebten kade...</td>\n",
       "    </tr>\n",
       "    <tr>\n",
       "      <th>2</th>\n",
       "      <td>başlığı sabit durmuyor. arka koruma demiri üfl...</td>\n",
       "      <td>neg</td>\n",
       "      <td>başlığı sabit durmuyor arka koruma demiri üfle...</td>\n",
       "    </tr>\n",
       "    <tr>\n",
       "      <th>3</th>\n",
       "      <td>ürün gayet kalitesiz öğrenci evinde aldığımız ...</td>\n",
       "      <td>neg</td>\n",
       "      <td>ürün gayet kalitesiz öğrenci evinde aldığımız ...</td>\n",
       "    </tr>\n",
       "    <tr>\n",
       "      <th>4</th>\n",
       "      <td>yuksek hizda kullanirken titredim yaptigi icin...</td>\n",
       "      <td>neg</td>\n",
       "      <td>yuksek hizda kullanirken titredim yaptigi icin...</td>\n",
       "    </tr>\n",
       "    <tr>\n",
       "      <th>...</th>\n",
       "      <td>...</td>\n",
       "      <td>...</td>\n",
       "      <td>...</td>\n",
       "    </tr>\n",
       "    <tr>\n",
       "      <th>7979</th>\n",
       "      <td>ürün pahalı ama gerçekten farklı.</td>\n",
       "      <td>pos</td>\n",
       "      <td>ürün pahalı gerçekten farklı</td>\n",
       "    </tr>\n",
       "    <tr>\n",
       "      <th>7980</th>\n",
       "      <td>3 bıçaklı fiyatına 5 bıçak ve jel geldi. teşek...</td>\n",
       "      <td>pos</td>\n",
       "      <td>bıçaklı fiyatına bıçak jel geldi teşekkürler h...</td>\n",
       "    </tr>\n",
       "    <tr>\n",
       "      <th>7981</th>\n",
       "      <td>piyasa fiyatının oldukça altında ve toplamda 9...</td>\n",
       "      <td>pos</td>\n",
       "      <td>piyasa fiyatının oldukça altında toplamda jile...</td>\n",
       "    </tr>\n",
       "    <tr>\n",
       "      <th>7982</th>\n",
       "      <td>askerde hayat kurtarır abiler</td>\n",
       "      <td>pos</td>\n",
       "      <td>askerde hayat kurtarır abiler</td>\n",
       "    </tr>\n",
       "    <tr>\n",
       "      <th>7983</th>\n",
       "      <td>ürünün kali̇tesi̇ belli̇  hizli ve sorunsuz al...</td>\n",
       "      <td>pos</td>\n",
       "      <td>ürünün kali tesi belli hizli sorunsuz alişveri...</td>\n",
       "    </tr>\n",
       "  </tbody>\n",
       "</table>\n",
       "<p>7984 rows × 3 columns</p>\n",
       "</div>"
      ],
      "text/plain": [
       "                                                 review label  \\\n",
       "0           beklentimin altında bir ürün kaliteli değil   neg   \n",
       "1     3. kademe hız da motor titreme yapıyor.bu sebe...   neg   \n",
       "2     başlığı sabit durmuyor. arka koruma demiri üfl...   neg   \n",
       "3     ürün gayet kalitesiz öğrenci evinde aldığımız ...   neg   \n",
       "4     yuksek hizda kullanirken titredim yaptigi icin...   neg   \n",
       "...                                                 ...   ...   \n",
       "7979                  ürün pahalı ama gerçekten farklı.   pos   \n",
       "7980  3 bıçaklı fiyatına 5 bıçak ve jel geldi. teşek...   pos   \n",
       "7981  piyasa fiyatının oldukça altında ve toplamda 9...   pos   \n",
       "7982                     askerde hayat kurtarır abiler    pos   \n",
       "7983  ürünün kali̇tesi̇ belli̇  hizli ve sorunsuz al...   pos   \n",
       "\n",
       "                                           clean_reviws  \n",
       "0           beklentimin altında bir ürün kaliteli değil  \n",
       "1     kademe hız motor titreme yapıyor sebebten kade...  \n",
       "2     başlığı sabit durmuyor arka koruma demiri üfle...  \n",
       "3     ürün gayet kalitesiz öğrenci evinde aldığımız ...  \n",
       "4     yuksek hizda kullanirken titredim yaptigi icin...  \n",
       "...                                                 ...  \n",
       "7979                       ürün pahalı gerçekten farklı  \n",
       "7980  bıçaklı fiyatına bıçak jel geldi teşekkürler h...  \n",
       "7981  piyasa fiyatının oldukça altında toplamda jile...  \n",
       "7982                      askerde hayat kurtarır abiler  \n",
       "7983  ürünün kali tesi belli hizli sorunsuz alişveri...  \n",
       "\n",
       "[7984 rows x 3 columns]"
      ]
     },
     "execution_count": 7,
     "metadata": {},
     "output_type": "execute_result"
    }
   ],
   "source": [
    "dataset"
   ]
  },
  {
   "cell_type": "markdown",
   "metadata": {
    "id": "MKaBNObn2aHT"
   },
   "source": [
    "# Data preprocessing"
   ]
  },
  {
   "cell_type": "code",
   "execution_count": 8,
   "metadata": {
    "id": "B-h311oyYQ2b"
   },
   "outputs": [],
   "source": [
    "X = dataset[\"clean_reviws\"].values.astype(\"U\")    # \"U\" for Unicode string\n",
    "y = dataset[\"label\"].values.astype(\"U\")     # \"U\" for Unicode string"
   ]
  },
  {
   "cell_type": "code",
   "execution_count": 9,
   "metadata": {
    "colab": {
     "base_uri": "https://localhost:8080/"
    },
    "id": "AADA0wsG8Zvg",
    "outputId": "6227920f-f1ea-4fdd-f56c-e2ed1403b9cc"
   },
   "outputs": [
    {
     "name": "stdout",
     "output_type": "stream",
     "text": [
      "(5588,)\n",
      "(2396,)\n"
     ]
    }
   ],
   "source": [
    "from sklearn.model_selection import train_test_split\n",
    "\n",
    "X_train, X_test, y_train, y_test = train_test_split(X, y, test_size=0.3, random_state=42)\n",
    "\n",
    "print(X_train.shape)\n",
    "print(X_test.shape)"
   ]
  },
  {
   "cell_type": "markdown",
   "metadata": {
    "id": "Moxh0HiiLBVz"
   },
   "source": [
    "## Count Vectorization"
   ]
  },
  {
   "cell_type": "code",
   "execution_count": 10,
   "metadata": {
    "id": "6FagF4Of-cbi"
   },
   "outputs": [],
   "source": [
    "from sklearn.feature_extraction.text import CountVectorizer\n",
    "\n",
    "count_vect = CountVectorizer()\n",
    "\n",
    "X_train_count = count_vect.fit_transform(X_train)\n",
    "X_test_count = count_vect.transform(X_test)"
   ]
  },
  {
   "cell_type": "code",
   "execution_count": 11,
   "metadata": {
    "colab": {
     "base_uri": "https://localhost:8080/"
    },
    "id": "Bz1ISGem_dKp",
    "outputId": "2ad3b1dd-deeb-4030-b147-fcd903234f55"
   },
   "outputs": [
    {
     "name": "stdout",
     "output_type": "stream",
     "text": [
      "(5588, 18243)\n",
      "(2396, 18243)\n"
     ]
    }
   ],
   "source": [
    "print(X_train_count.shape)\n",
    "print(X_test_count.shape)"
   ]
  },
  {
   "cell_type": "markdown",
   "metadata": {
    "id": "xLSLoIZOLLib"
   },
   "source": [
    "## TF*IDF transformation"
   ]
  },
  {
   "cell_type": "code",
   "execution_count": 12,
   "metadata": {
    "id": "LliD99blAOHD"
   },
   "outputs": [],
   "source": [
    "from sklearn.feature_extraction.text import TfidfTransformer\n",
    "\n",
    "tfidf_trans = TfidfTransformer()\n",
    "\n",
    "X_train_tfidf = tfidf_trans.fit_transform(X_train_count)\n",
    "X_test_tfidf = tfidf_trans.transform(X_test_count)"
   ]
  },
  {
   "cell_type": "code",
   "execution_count": 13,
   "metadata": {
    "colab": {
     "base_uri": "https://localhost:8080/"
    },
    "id": "I8nV9IL9Ayug",
    "outputId": "c6899f22-393e-4bfe-b291-03f403d86011"
   },
   "outputs": [
    {
     "name": "stdout",
     "output_type": "stream",
     "text": [
      "(5588, 18243)\n",
      "(2396, 18243)\n"
     ]
    }
   ],
   "source": [
    "print(X_train_tfidf.shape)\n",
    "print(X_test_tfidf.shape)"
   ]
  },
  {
   "cell_type": "markdown",
   "metadata": {
    "id": "6uhZ7cs6EsSB"
   },
   "source": [
    "# Create model"
   ]
  },
  {
   "cell_type": "code",
   "execution_count": 14,
   "metadata": {
    "colab": {
     "base_uri": "https://localhost:8080/"
    },
    "id": "WIY1EiEzErL7",
    "outputId": "6ce4d7fc-427d-4f9c-f449-a70cd58fafe2"
   },
   "outputs": [
    {
     "data": {
      "text/plain": [
       "MultinomialNB()"
      ]
     },
     "execution_count": 14,
     "metadata": {},
     "output_type": "execute_result"
    }
   ],
   "source": [
    "from sklearn.naive_bayes import MultinomialNB\n",
    "\n",
    "mnb = MultinomialNB()\n",
    "mnb.fit(X_train_tfidf, y_train)"
   ]
  },
  {
   "cell_type": "code",
   "execution_count": 15,
   "metadata": {
    "colab": {
     "base_uri": "https://localhost:8080/"
    },
    "id": "yLkVFQnn4_97",
    "outputId": "50cd1d07-b759-4f10-ad7e-e405f4e7cb23"
   },
   "outputs": [
    {
     "name": "stdout",
     "output_type": "stream",
     "text": [
      "Scores: [0.89177102 0.90250447 0.89624329 0.89256938 0.88182632]\n",
      "Mean: 0.8929828972634659\n",
      "Standard deviation: 0.006743877353536977\n"
     ]
    }
   ],
   "source": [
    "scores = cross_val_score(mnb, X_train_tfidf, y_train, cv=5)\n",
    "\n",
    "print(\"Scores:\", scores)\n",
    "print(\"Mean:\", scores.mean())\n",
    "print(\"Standard deviation:\", scores.std())"
   ]
  },
  {
   "cell_type": "code",
   "execution_count": 16,
   "metadata": {
    "colab": {
     "base_uri": "https://localhost:8080/"
    },
    "id": "pbIRn9PqF1RD",
    "outputId": "4360bf2c-045b-4a16-d269-93929b9c0178"
   },
   "outputs": [
    {
     "name": "stdout",
     "output_type": "stream",
     "text": [
      "[[1049  179]\n",
      " [ 102 1066]]\n",
      "              precision    recall  f1-score   support\n",
      "\n",
      "         neg       0.91      0.85      0.88      1228\n",
      "         pos       0.86      0.91      0.88      1168\n",
      "\n",
      "    accuracy                           0.88      2396\n",
      "   macro avg       0.88      0.88      0.88      2396\n",
      "weighted avg       0.88      0.88      0.88      2396\n",
      "\n"
     ]
    }
   ],
   "source": [
    "y_pred = mnb.predict(X_test_tfidf)\n",
    "cm = confusion_matrix(y_test, y_pred)\n",
    "\n",
    "print(cm)\n",
    "print(classification_report(y_test, y_pred))"
   ]
  },
  {
   "cell_type": "markdown",
   "metadata": {
    "id": "oScFFJZO5lR8"
   },
   "source": [
    "# Predictions"
   ]
  },
  {
   "cell_type": "code",
   "execution_count": 17,
   "metadata": {
    "colab": {
     "base_uri": "https://localhost:8080/"
    },
    "id": "Mp8Idklo5hhb",
    "outputId": "614a0cca-ca35-48b9-afdd-f5440da73304"
   },
   "outputs": [
    {
     "name": "stdout",
     "output_type": "stream",
     "text": [
      "mükemmel => pos\n",
      "fiyata ancak kadar olur yorumlarda orjinal yazan arkadaşlar bilmediğiniz konularda yorum yapmayın milletin kafasını karıştırmayın zaten başlıkta orjinal ibaresi yok => neg\n",
      "gün içinde elimde oldu => pos\n",
      "ürünü ilk önce köpüksüz kullandım jilet etkisi vermedi nci kullanışımda köpüklü kullandım fena değil fakat söylenilen sinek kaydı etkisi filan yaratmıyor iyi almanız bastırmanız gerekiyor buda inanılmaz tahrişe yol açıyor açıkçası tekrar kullanmaya korktum temizleme ünitesi güzel fakat gece açtıysanız ses rahatsız eder => neg\n",
      "olumsuzlukların dışında fiyatı yapacağı işe göre gayet iyi montaj tamamlandığında sağlam bir duruşu var ben içerisine kutularıyla birlikte eyşalarımı kılıflarıyla beraber bir kaç takım elbisemi koymak aldım kutu kılıfa vurgu yapmak istedim kadar dikkat ederseniz edin içerisine toz biriktirecek bir yapısı var saygılar => neg\n"
     ]
    }
   ],
   "source": [
    "for review, sentiment in zip(X_test[:5], y_pred[:]):\n",
    "  print(\"{} => {}\".format(review, sentiment))"
   ]
  },
  {
   "cell_type": "code",
   "execution_count": null,
   "metadata": {},
   "outputs": [],
   "source": []
  }
 ],
 "metadata": {
  "colab": {
   "collapsed_sections": [],
   "name": "sentiment_analysis2.ipynb",
   "provenance": [],
   "toc_visible": true
  },
  "kernelspec": {
   "display_name": "Python 3 (ipykernel)",
   "language": "python",
   "name": "python3"
  },
  "language_info": {
   "codemirror_mode": {
    "name": "ipython",
    "version": 3
   },
   "file_extension": ".py",
   "mimetype": "text/x-python",
   "name": "python",
   "nbconvert_exporter": "python",
   "pygments_lexer": "ipython3",
   "version": "3.9.12"
  }
 },
 "nbformat": 4,
 "nbformat_minor": 1
}
