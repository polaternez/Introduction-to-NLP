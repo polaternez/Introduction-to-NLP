{
 "cells": [
  {
   "cell_type": "markdown",
   "metadata": {
    "id": "t92JXe45XBnw"
   },
   "source": [
    "# POSTagging"
   ]
  },
  {
   "cell_type": "markdown",
   "metadata": {
    "id": "EZeWgWxPXDMm"
   },
   "source": [
    "## with nltk"
   ]
  },
  {
   "cell_type": "code",
   "execution_count": null,
   "metadata": {
    "colab": {
     "base_uri": "https://localhost:8080/"
    },
    "id": "UeZMm0fbT3n7",
    "outputId": "fb581085-cb4d-4599-b946-c7de99af8dce"
   },
   "outputs": [
    {
     "name": "stderr",
     "output_type": "stream",
     "text": [
      "[nltk_data] Downloading package punkt to /root/nltk_data...\n",
      "[nltk_data]   Unzipping tokenizers/punkt.zip.\n",
      "[nltk_data] Downloading package universal_tagset to /root/nltk_data...\n",
      "[nltk_data]   Unzipping taggers/universal_tagset.zip.\n",
      "[nltk_data] Downloading package averaged_perceptron_tagger to\n",
      "[nltk_data]     /root/nltk_data...\n",
      "[nltk_data]   Unzipping taggers/averaged_perceptron_tagger.zip.\n"
     ]
    },
    {
     "data": {
      "text/plain": [
       "True"
      ]
     },
     "execution_count": 1,
     "metadata": {},
     "output_type": "execute_result"
    }
   ],
   "source": [
    "import nltk\n",
    "\n",
    "nltk.download('punkt')\n",
    "nltk.download('universal_tagset')\n",
    "nltk.download('averaged_perceptron_tagger')"
   ]
  },
  {
   "cell_type": "code",
   "execution_count": null,
   "metadata": {
    "colab": {
     "base_uri": "https://localhost:8080/"
    },
    "id": "BpwxE2_rT8LD",
    "outputId": "cb46fd77-7773-4af5-e62e-48bd5f72e605"
   },
   "outputs": [
    {
     "name": "stdout",
     "output_type": "stream",
     "text": [
      "Part of Speech :  [('Can', 'MD'), ('you', 'PRP'), ('buy', 'VB'), ('me', 'PRP'), ('a', 'DT'), ('red', 'JJ'), ('chili', 'NN'), ('pepper', 'NN'), ('for', 'IN'), ('grocery', 'NN'), ('?', '.')]\n"
     ]
    }
   ],
   "source": [
    "tokens = nltk.word_tokenize(\"Can you buy me a red chili pepper for grocery?\")\n",
    "\n",
    "print(\"Part of Speech : \", nltk.pos_tag(tokens))"
   ]
  },
  {
   "cell_type": "code",
   "execution_count": null,
   "metadata": {
    "colab": {
     "base_uri": "https://localhost:8080/"
    },
    "id": "n4PPJ0SUUmmv",
    "outputId": "83c8a65e-371f-4ed1-f029-849358170f9d"
   },
   "outputs": [
    {
     "name": "stdout",
     "output_type": "stream",
     "text": [
      "Part of Speech :  [('Can', 'VERB'), ('you', 'PRON'), ('buy', 'VERB'), ('me', 'PRON'), ('a', 'DET'), ('red', 'ADJ'), ('chili', 'NOUN'), ('pepper', 'NOUN'), ('for', 'ADP'), ('grocery', 'NOUN'), ('?', '.')]\n"
     ]
    }
   ],
   "source": [
    "print(\"Part of Speech : \", nltk.pos_tag(tokens, tagset=\"universal\"))"
   ]
  },
  {
   "cell_type": "markdown",
   "metadata": {
    "id": "iT2w9qbpW3eX"
   },
   "source": [
    "## with spaCy"
   ]
  },
  {
   "cell_type": "code",
   "execution_count": null,
   "metadata": {
    "colab": {
     "base_uri": "https://localhost:8080/"
    },
    "id": "ezLiUyjSWZj5",
    "outputId": "a86b89dc-74bb-40d5-950c-704af906015c"
   },
   "outputs": [
    {
     "name": "stdout",
     "output_type": "stream",
     "text": [
      "I PRON\n",
      "want VERB\n",
      "an DET\n",
      "early ADJ\n",
      "upgrade NOUN\n"
     ]
    }
   ],
   "source": [
    "import spacy\n",
    "\n",
    "nlp = spacy.load(\"en_core_web_sm\")\n",
    "doc = nlp(\"I want an early upgrade\")\n",
    "\n",
    "for token in doc:\n",
    "  print(token.text, token.pos_)"
   ]
  },
  {
   "cell_type": "markdown",
   "metadata": {
    "id": "mLMMHRbIQE6e"
   },
   "source": [
    "# Named Entity Recognition(NER)"
   ]
  },
  {
   "cell_type": "markdown",
   "metadata": {
    "id": "TFR7cslzYTn4"
   },
   "source": [
    "## with nltk"
   ]
  },
  {
   "cell_type": "code",
   "execution_count": null,
   "metadata": {
    "colab": {
     "base_uri": "https://localhost:8080/"
    },
    "id": "2zyEWEfIQCf4",
    "outputId": "b207cf29-70d7-435f-e919-243fb459928f"
   },
   "outputs": [
    {
     "name": "stderr",
     "output_type": "stream",
     "text": [
      "[nltk_data] Downloading package maxent_ne_chunker to\n",
      "[nltk_data]     /root/nltk_data...\n",
      "[nltk_data]   Unzipping chunkers/maxent_ne_chunker.zip.\n",
      "[nltk_data] Downloading package words to /root/nltk_data...\n",
      "[nltk_data]   Unzipping corpora/words.zip.\n"
     ]
    }
   ],
   "source": [
    "import nltk\n",
    "\n",
    "nltk.download('maxent_ne_chunker')\n",
    "nltk.download('words')\n",
    "\n",
    "from nltk.chunk import ne_chunk"
   ]
  },
  {
   "cell_type": "code",
   "execution_count": null,
   "metadata": {
    "colab": {
     "base_uri": "https://localhost:8080/"
    },
    "id": "cBUGJ2frQj1b",
    "outputId": "201829b9-a21e-4ef3-c309-e76964479cb3"
   },
   "outputs": [
    {
     "name": "stdout",
     "output_type": "stream",
     "text": [
      "(S\n",
      "  Legendary/JJ\n",
      "  scientist/NN\n",
      "  (PERSON Albert/NNP Einstein/NNP)\n",
      "  is/VBZ\n",
      "  born/VBN\n",
      "  in/IN\n",
      "  (GPE Ulm/NNP)\n",
      "  ,/,\n",
      "  (GPE Germany/NNP)\n",
      "  ./.)\n"
     ]
    }
   ],
   "source": [
    "sentence = \"Legendary scientist Albert Einstein is born in Ulm, Germany.\"\n",
    "tokens = nltk.word_tokenize(sentence)\n",
    "tagged_tokens = nltk.pos_tag(tokens)\n",
    "entities = nltk.chunk.ne_chunk(tagged_tokens)\n",
    "\n",
    "print(entities)"
   ]
  },
  {
   "cell_type": "code",
   "execution_count": null,
   "metadata": {
    "colab": {
     "base_uri": "https://localhost:8080/"
    },
    "id": "9k_qJ23hQW6z",
    "outputId": "47ed4680-c994-4f3c-a6b9-244807d1f790"
   },
   "outputs": [
    {
     "data": {
      "text/plain": [
       "[S -> ('Legendary', 'JJ') ('scientist', 'NN') PERSON ('is', 'VBZ') ('born', 'VBN') ('in', 'IN') GPE (',', ',') GPE ('.', '.'),\n",
       " PERSON -> ('Albert', 'NNP') ('Einstein', 'NNP'),\n",
       " GPE -> ('Ulm', 'NNP'),\n",
       " GPE -> ('Germany', 'NNP')]"
      ]
     },
     "execution_count": 7,
     "metadata": {},
     "output_type": "execute_result"
    }
   ],
   "source": [
    "entities.productions()"
   ]
  },
  {
   "cell_type": "markdown",
   "metadata": {
    "id": "TsZi7Xm9TKM_"
   },
   "source": [
    "## with spaCy"
   ]
  },
  {
   "cell_type": "code",
   "execution_count": null,
   "metadata": {
    "id": "QffbTajMRJ4S"
   },
   "outputs": [],
   "source": [
    "import spacy\n",
    "from spacy import displacy\n",
    "from collections import Counter\n",
    "\n",
    "nlp = spacy.load(\"en_core_web_sm\")"
   ]
  },
  {
   "cell_type": "code",
   "execution_count": null,
   "metadata": {
    "colab": {
     "base_uri": "https://localhost:8080/"
    },
    "id": "mEB5FdcDTmH6",
    "outputId": "a7997e37-cc92-4277-82f3-17a350601d40"
   },
   "outputs": [
    {
     "name": "stdout",
     "output_type": "stream",
     "text": [
      "[('Michael Jordan', 'PERSON'), ('Berkeley', 'ORG')]\n"
     ]
    }
   ],
   "source": [
    "sentence = nlp(\"Michael Jordan is a proffessor at Berkeley\")\n",
    "\n",
    "print([(X.text, X.label_) for X in sentence.ents])"
   ]
  }
 ],
 "metadata": {
  "colab": {
   "collapsed_sections": [],
   "name": "02-POSTagging.ipynb",
   "provenance": [],
   "toc_visible": true
  },
  "kernelspec": {
   "display_name": "Python 3 (ipykernel)",
   "language": "python",
   "name": "python3"
  },
  "language_info": {
   "codemirror_mode": {
    "name": "ipython",
    "version": 3
   },
   "file_extension": ".py",
   "mimetype": "text/x-python",
   "name": "python",
   "nbconvert_exporter": "python",
   "pygments_lexer": "ipython3",
   "version": "3.9.12"
  }
 },
 "nbformat": 4,
 "nbformat_minor": 1
}
