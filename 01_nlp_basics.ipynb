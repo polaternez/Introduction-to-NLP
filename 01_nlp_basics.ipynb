{
  "nbformat": 4,
  "nbformat_minor": 0,
  "metadata": {
    "colab": {
      "name": "01-nlp_basics.ipynb",
      "provenance": [],
      "collapsed_sections": [],
      "toc_visible": true
    },
    "kernelspec": {
      "name": "python3",
      "display_name": "Python 3"
    },
    "language_info": {
      "name": "python"
    }
  },
  "cells": [
    {
      "cell_type": "code",
      "metadata": {
        "colab": {
          "base_uri": "https://localhost:8080/"
        },
        "id": "oBtiod1W6L5i",
        "outputId": "92344ec3-af2b-40fa-838b-e1273138ddcb"
      },
      "source": [
        "import nltk \n",
        "\n",
        "nltk.download('punkt')"
      ],
      "execution_count": 1,
      "outputs": [
        {
          "output_type": "stream",
          "name": "stderr",
          "text": [
            "[nltk_data] Downloading package punkt to /root/nltk_data...\n",
            "[nltk_data]   Unzipping tokenizers/punkt.zip.\n"
          ]
        },
        {
          "output_type": "execute_result",
          "data": {
            "text/plain": [
              "True"
            ]
          },
          "metadata": {},
          "execution_count": 1
        }
      ]
    },
    {
      "cell_type": "markdown",
      "metadata": {
        "id": "LJbJ_CZI6eBH"
      },
      "source": [
        "# 1.Tokenization"
      ]
    },
    {
      "cell_type": "markdown",
      "metadata": {
        "id": "rsrsoxek6Vqg"
      },
      "source": [
        "## Sentence Tokenize"
      ]
    },
    {
      "cell_type": "code",
      "metadata": {
        "colab": {
          "base_uri": "https://localhost:8080/"
        },
        "id": "4zqO1sZu6MoB",
        "outputId": "65f615e4-bbe7-40fa-e41a-84338cf5b908"
      },
      "source": [
        "from nltk import sent_tokenize\n",
        "\n",
        "text = \"\"\"Susmayın!\n",
        "Saat 16'da Kadikoy'de buluşalım.\n",
        "Şiddet cahillik göstergelerinin en üst sınırıdır.\n",
        "Ailede şiddet geleceği karartır.\n",
        "Kadına şiddet, insanlığa ihanettir.\n",
        "Her sessiz kalınan şiddet bir gün sizi bulur. \n",
        "Sevgi insanlığın, şiddet hayvanlığın kanunudur.\n",
        "\"\"\"\n",
        "\n",
        "sentences = sent_tokenize(text)\n",
        "\n",
        "for i, sentence in enumerate(sentences):\n",
        "    print(i,\" \",sentence)"
      ],
      "execution_count": 2,
      "outputs": [
        {
          "output_type": "stream",
          "name": "stdout",
          "text": [
            "0   Susmayın!\n",
            "1   Saat 16'da Kadikoy'de buluşalım.\n",
            "2   Şiddet cahillik göstergelerinin en üst sınırıdır.\n",
            "3   Ailede şiddet geleceği karartır.\n",
            "4   Kadına şiddet, insanlığa ihanettir.\n",
            "5   Her sessiz kalınan şiddet bir gün sizi bulur.\n",
            "6   Sevgi insanlığın, şiddet hayvanlığın kanunudur.\n"
          ]
        }
      ]
    },
    {
      "cell_type": "markdown",
      "metadata": {
        "id": "6lz3x8Y66oeQ"
      },
      "source": [
        "## Word Tokenize"
      ]
    },
    {
      "cell_type": "code",
      "metadata": {
        "colab": {
          "base_uri": "https://localhost:8080/"
        },
        "id": "Gb5FyvDz6NMg",
        "outputId": "43050022-b629-4fce-837b-bbf09cf48c67"
      },
      "source": [
        "from nltk import word_tokenize\n",
        "\n",
        "sentences = [\n",
        "    \"Susmayın!\",\n",
        "    \"Saat 16'da Kadikoy'de buluşalım.\",\n",
        "    \"Şiddet cahillik göstergelerinin en üst sınırıdır.\",\n",
        "    \"Ailede şiddet geleceği karartır.\",\n",
        "    \"Kadına şiddet, insanlığa ihanettir.\",\n",
        "    \"Her sessiz kalınan şiddet bir gün sizi bulur.\",\n",
        "    \"Sevgi insanlığın, şiddet hayvanlığın kanunudur.\"\n",
        "]\n",
        "\n",
        "for sentence in sentences:\n",
        "    print(word_tokenize(sentence))"
      ],
      "execution_count": 3,
      "outputs": [
        {
          "output_type": "stream",
          "name": "stdout",
          "text": [
            "['Susmayın', '!']\n",
            "['Saat', \"16'da\", \"Kadikoy'de\", 'buluşalım', '.']\n",
            "['Şiddet', 'cahillik', 'göstergelerinin', 'en', 'üst', 'sınırıdır', '.']\n",
            "['Ailede', 'şiddet', 'geleceği', 'karartır', '.']\n",
            "['Kadına', 'şiddet', ',', 'insanlığa', 'ihanettir', '.']\n",
            "['Her', 'sessiz', 'kalınan', 'şiddet', 'bir', 'gün', 'sizi', 'bulur', '.']\n",
            "['Sevgi', 'insanlığın', ',', 'şiddet', 'hayvanlığın', 'kanunudur', '.']\n"
          ]
        }
      ]
    },
    {
      "cell_type": "markdown",
      "metadata": {
        "id": "RW6nWxo-6uaA"
      },
      "source": [
        "# 2.Stemming"
      ]
    },
    {
      "cell_type": "code",
      "metadata": {
        "id": "3iNx0IfE68K4"
      },
      "source": [
        "from nltk.stem.porter import *\n",
        "from nltk.stem.snowball import SnowballStemmer"
      ],
      "execution_count": 4,
      "outputs": []
    },
    {
      "cell_type": "code",
      "metadata": {
        "colab": {
          "base_uri": "https://localhost:8080/"
        },
        "id": "7sVmMbuf6uvq",
        "outputId": "1d85be27-76a0-4ab5-e210-9edf846a7366"
      },
      "source": [
        "porter_stemmer = PorterStemmer()\n",
        "word = \"civilizations\"\n",
        "\n",
        "print(porter_stemmer.stem(word))"
      ],
      "execution_count": 5,
      "outputs": [
        {
          "output_type": "stream",
          "name": "stdout",
          "text": [
            "civil\n"
          ]
        }
      ]
    },
    {
      "cell_type": "code",
      "metadata": {
        "colab": {
          "base_uri": "https://localhost:8080/"
        },
        "id": "Bxi_YeSj7WL5",
        "outputId": "dfc61d16-abe1-4377-dcd6-de67acde56d9"
      },
      "source": [
        "# Snowball Stemmer (Porter2 Stemmer)\n",
        "snowball_stemmer = SnowballStemmer(language=\"english\")\n",
        "\n",
        "print(snowball_stemmer.stem(word))"
      ],
      "execution_count": 6,
      "outputs": [
        {
          "output_type": "stream",
          "name": "stdout",
          "text": [
            "civil\n"
          ]
        }
      ]
    },
    {
      "cell_type": "code",
      "metadata": {
        "colab": {
          "base_uri": "https://localhost:8080/"
        },
        "id": "tYWwpBZG7AqA",
        "outputId": "17c5edaf-3ac0-49ac-defa-da03517a6848"
      },
      "source": [
        "print(\"Snowball Stemmer Languages : \")\n",
        "print(\" \".join(SnowballStemmer.languages))"
      ],
      "execution_count": 7,
      "outputs": [
        {
          "output_type": "stream",
          "name": "stdout",
          "text": [
            "Snowball Stemmer Languages : \n",
            "arabic danish dutch english finnish french german hungarian italian norwegian porter portuguese romanian russian spanish swedish\n"
          ]
        }
      ]
    },
    {
      "cell_type": "code",
      "metadata": {
        "colab": {
          "base_uri": "https://localhost:8080/"
        },
        "id": "ibSjJY0L7p0g",
        "outputId": "65d055e3-49ef-43b4-e4f6-7bf989ddd389"
      },
      "source": [
        "#Turkish Stemmer\n",
        "from snowballstemmer import TurkishStemmer\n",
        "\n",
        "turkish_stemmer = TurkishStemmer()\n",
        "word = \"aydınlıktan\"\n",
        "word2 = \"çiçeklikler\"\n",
        "\n",
        "print(turkish_stemmer.stemWord(word))"
      ],
      "execution_count": 8,
      "outputs": [
        {
          "output_type": "stream",
          "name": "stdout",
          "text": [
            "aydınlık\n"
          ]
        }
      ]
    },
    {
      "cell_type": "markdown",
      "metadata": {
        "id": "dp56uJzd8AlS"
      },
      "source": [
        "# 3.Lemmatization\n"
      ]
    },
    {
      "cell_type": "code",
      "metadata": {
        "colab": {
          "base_uri": "https://localhost:8080/"
        },
        "id": "M_kLif9r7ku5",
        "outputId": "c797f17f-f4de-4f59-b25f-f3cec7abdaea"
      },
      "source": [
        "import spacy\n",
        "\n",
        "nlp = spacy.load(\"en_core_web_sm\")\n",
        "word = nlp(\"civilizations\")\n",
        "\n",
        "for token in word:\n",
        "    print(token.lemma_)\n"
      ],
      "execution_count": 9,
      "outputs": [
        {
          "output_type": "stream",
          "name": "stdout",
          "text": [
            "civilization\n"
          ]
        }
      ]
    },
    {
      "cell_type": "markdown",
      "metadata": {
        "id": "BAiSVLoLCYZF"
      },
      "source": [
        "# 4.Stop Words"
      ]
    },
    {
      "cell_type": "markdown",
      "metadata": {
        "id": "6ULC5q4BaOiY"
      },
      "source": [
        "## with spaCy"
      ]
    },
    {
      "cell_type": "code",
      "metadata": {
        "colab": {
          "base_uri": "https://localhost:8080/"
        },
        "id": "REVHTtSq5528",
        "outputId": "8d92faf1-b306-4a08-97b8-efb0089da8f0"
      },
      "source": [
        "import spacy\n",
        "\n",
        "nlp = spacy.load(\"en_core_web_sm\")\n",
        "len(nlp.Defaults.stop_words)"
      ],
      "execution_count": 10,
      "outputs": [
        {
          "output_type": "execute_result",
          "data": {
            "text/plain": [
              "326"
            ]
          },
          "metadata": {},
          "execution_count": 10
        }
      ]
    },
    {
      "cell_type": "code",
      "metadata": {
        "colab": {
          "base_uri": "https://localhost:8080/"
        },
        "id": "HY28ObByDKiT",
        "outputId": "0b5bdc8f-f24b-4303-d6d8-c62ee5f14690"
      },
      "source": [
        "sw_list = list(nlp.Defaults.stop_words)\n",
        "print(sw_list[:10])"
      ],
      "execution_count": 11,
      "outputs": [
        {
          "output_type": "stream",
          "name": "stdout",
          "text": [
            "['sometime', 'under', 'everyone', 'empty', 'first', 'ourselves', 'yourself', 'hereupon', 'anyhow', 'while']\n"
          ]
        }
      ]
    },
    {
      "cell_type": "code",
      "metadata": {
        "colab": {
          "base_uri": "https://localhost:8080/"
        },
        "id": "u6jD2S4bDM5n",
        "outputId": "83fe2dc9-95e3-4cb8-8a16-cfe718d680e3"
      },
      "source": [
        "print(nlp.vocab[\"of\"].is_stop)\n",
        "print(nlp.vocab[\"civilizations\"].is_stop)"
      ],
      "execution_count": 12,
      "outputs": [
        {
          "output_type": "stream",
          "name": "stdout",
          "text": [
            "True\n",
            "False\n"
          ]
        }
      ]
    },
    {
      "cell_type": "code",
      "metadata": {
        "id": "9v92aay5Dx1s"
      },
      "source": [
        "nlp.Defaults.stop_words.add(\"civilizations\")"
      ],
      "execution_count": 13,
      "outputs": []
    },
    {
      "cell_type": "code",
      "metadata": {
        "colab": {
          "base_uri": "https://localhost:8080/"
        },
        "id": "vJfI0QdjEoEz",
        "outputId": "f2b37265-5a6a-40e7-cd11-e555dbd520ca"
      },
      "source": [
        "print(nlp.vocab[\"civilizations\"].is_stop)\n",
        "print(len(nlp.Defaults.stop_words))"
      ],
      "execution_count": 14,
      "outputs": [
        {
          "output_type": "stream",
          "name": "stdout",
          "text": [
            "False\n",
            "327\n"
          ]
        }
      ]
    },
    {
      "cell_type": "code",
      "metadata": {
        "id": "YCcURlMiEzUq"
      },
      "source": [
        "nlp.Defaults.stop_words.remove(\"civilizations\")"
      ],
      "execution_count": 15,
      "outputs": []
    },
    {
      "cell_type": "code",
      "metadata": {
        "colab": {
          "base_uri": "https://localhost:8080/"
        },
        "id": "Yz2mTbpTEJ0r",
        "outputId": "23c84bae-b599-426e-f38b-de5f6b8d25b6"
      },
      "source": [
        "print(nlp.vocab[\"civilizations\"].is_stop)\n",
        "print(len(nlp.Defaults.stop_words))"
      ],
      "execution_count": 16,
      "outputs": [
        {
          "output_type": "stream",
          "name": "stdout",
          "text": [
            "False\n",
            "326\n"
          ]
        }
      ]
    },
    {
      "cell_type": "markdown",
      "metadata": {
        "id": "v3vIBZ1GGHdx"
      },
      "source": [
        "## with nltk"
      ]
    },
    {
      "cell_type": "code",
      "metadata": {
        "colab": {
          "base_uri": "https://localhost:8080/"
        },
        "id": "jSyEQtYVGHC6",
        "outputId": "cff5ac11-10c9-4a64-ad20-f8614f2c99e8"
      },
      "source": [
        "import nltk \n",
        "nltk.download(\"stopwords\")\n",
        "\n",
        "from nltk.corpus import stopwords\n",
        "\n",
        "turkish_sw = stopwords.words(\"turkish\")\n",
        "\n",
        "print(len(turkish_sw))\n",
        "print(turkish_sw[:])"
      ],
      "execution_count": 17,
      "outputs": [
        {
          "output_type": "stream",
          "name": "stdout",
          "text": [
            "53\n",
            "['acaba', 'ama', 'aslında', 'az', 'bazı', 'belki', 'biri', 'birkaç', 'birşey', 'biz', 'bu', 'çok', 'çünkü', 'da', 'daha', 'de', 'defa', 'diye', 'eğer', 'en', 'gibi', 'hem', 'hep', 'hepsi', 'her', 'hiç', 'için', 'ile', 'ise', 'kez', 'ki', 'kim', 'mı', 'mu', 'mü', 'nasıl', 'ne', 'neden', 'nerde', 'nerede', 'nereye', 'niçin', 'niye', 'o', 'sanki', 'şey', 'siz', 'şu', 'tüm', 've', 'veya', 'ya', 'yani']\n"
          ]
        },
        {
          "output_type": "stream",
          "name": "stderr",
          "text": [
            "[nltk_data] Downloading package stopwords to /root/nltk_data...\n",
            "[nltk_data]   Unzipping corpora/stopwords.zip.\n"
          ]
        }
      ]
    },
    {
      "cell_type": "code",
      "metadata": {
        "id": "x4a5gvEoHXWD"
      },
      "source": [],
      "execution_count": 17,
      "outputs": []
    }
  ]
}